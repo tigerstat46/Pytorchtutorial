{
 "cells": [
  {
   "cell_type": "markdown",
   "metadata": {},
   "source": [
    "<img src=\"http://pytorch.org/docs/master/_static/pytorch-logo-dark.svg\" style=\"width: 400px;\"/>\n",
    "# Pytorch Basic\n",
    "Pytorch เป็น Deep Learning Library ซึ่ง Facebook เป็นผู้สนับสนุน โดยอดีต Torch เป็น Library อยู่บนภาษา Lua ซึ่งเมื่อต้นปี 2017 ได้ออก Torch ที่อยู่บนภาษา Python โดยมีลักษณะที่คล้ายกับบนภาษา Lua ผู้ใช้สามารถดูวิธีการติดตั้งได้ที่ http://pytorch.org ซึ่งตอนนี้(วันที่ 23 กรกฎาคม 2017) Pytorch รองรับแค่ระบบปฏิบัติการ macOS และ Linux ซึ่งข้อดีของ Pytorch มีดังนี้\n",
    "1. เป็นระบบ Define by run ทำให้ผู้ใช้ไม่จำเป็นต้องเปิด Session \n",
    "2. Debug โปรแกรมได้ง่าย\n",
    "3. รองรับ Dynamic Network  เช่น Input ของข้อมูลไม่จำเป็นต้องมีขนาดเท่ากันก็ได้ ซึ่งกรณีที่เจอข้อมูลมีขนาดไม่เท่ากันบ่อยๆคือด้านภาษาศาสตร์ <br>\n",
    "\n",
    "สารบัญ\n",
    "1. การสร้าง Tensor\n",
    "2. Basic Operation\n",
    "3. Automatic Differentiation \n",
    "4. Deep Learning Basic Episode 1 : OLS Regression\n",
    "\n",
    "## 1.การสร้าง Tensor\n",
    "ใน Pytorch จะมี Data Type เป็นของตัวเองซึ่งเหมือนกับ Numpy แต่จะมีสองรูปแบบคือ\n",
    "1. Tensor\n",
    "2. Variable โดยจะมีคุณสมบัติพิเศษคือหาอนุพันธ์ได้"
   ]
  },
  {
   "cell_type": "code",
   "execution_count": 1,
   "metadata": {
    "scrolled": false
   },
   "outputs": [
    {
     "name": "stdout",
     "output_type": "stream",
     "text": [
      "\n",
      " 1\n",
      " 2\n",
      " 3\n",
      " 4\n",
      " 5\n",
      " 6\n",
      "[torch.FloatTensor of size 6]\n",
      "\n",
      "\n",
      "   1    2    3\n",
      " 444  555  666\n",
      "[torch.DoubleTensor of size 2x3]\n",
      "\n"
     ]
    }
   ],
   "source": [
    "import torch\n",
    "float_tensor = torch.FloatTensor([1,2,3,4,5,6])\n",
    "doublefloat_tensor = torch.DoubleTensor([[1,2,3],[444,555,666]])\n",
    "print(float_tensor)\n",
    "print(doublefloat_tensor)"
   ]
  },
  {
   "cell_type": "markdown",
   "metadata": {},
   "source": [
    "จะสังเกตได้ว่าเมื่อทำการ print tensor ใน Pytorch นั้นจะมีการบอกขนาดของ Tensor ด้วย นอกจากนี้ผู้ใช้ยังสามารถหาขนาดของ Tensor โดยใช้ Method .size()"
   ]
  },
  {
   "cell_type": "code",
   "execution_count": 2,
   "metadata": {
    "scrolled": true
   },
   "outputs": [
    {
     "name": "stdout",
     "output_type": "stream",
     "text": [
      "torch.Size([6])\n",
      "torch.Size([2, 3])\n"
     ]
    }
   ],
   "source": [
    "print(float_tensor.size())\n",
    "print(doublefloat_tensor.size())"
   ]
  },
  {
   "cell_type": "markdown",
   "metadata": {},
   "source": [
    "นอกจากนี้ยังสามารถแปลง Numpy Array เป็น Tensor ได้โดยใช้ฟังก์ชัน from_numpy"
   ]
  },
  {
   "cell_type": "code",
   "execution_count": 3,
   "metadata": {},
   "outputs": [
    {
     "name": "stdout",
     "output_type": "stream",
     "text": [
      "\n",
      " 1  2  3\n",
      " 4  5  6\n",
      "[torch.LongTensor of size 2x3]\n",
      "\n"
     ]
    }
   ],
   "source": [
    "import numpy as np\n",
    "from torch import from_numpy\n",
    "myvar = np.array([[1,2,3],[4,5,6]])\n",
    "myconvert_tensor = from_numpy(myvar)\n",
    "print(myconvert_tensor)"
   ]
  },
  {
   "cell_type": "markdown",
   "metadata": {},
   "source": [
    "การสร้าง Variable นั้นก็สามารถทำได้เช่นเดียวกัน โดย Method Variable จะอยู่ใน Class autograd โดย Variable นั้นต้องสร้าง Tensor ขึ้นมาก่อน"
   ]
  },
  {
   "cell_type": "code",
   "execution_count": 4,
   "metadata": {
    "scrolled": true
   },
   "outputs": [
    {
     "name": "stdout",
     "output_type": "stream",
     "text": [
      "<class 'torch.autograd.variable.Variable'>\n",
      "<class 'torch.autograd.variable.Variable'>\n"
     ]
    }
   ],
   "source": [
    "from torch.autograd import Variable\n",
    "var1 = Variable(float_tensor)\n",
    "var2 = Variable(doublefloat_tensor)\n",
    "print(type(var1))\n",
    "print(type(var2))"
   ]
  },
  {
   "cell_type": "markdown",
   "metadata": {},
   "source": [
    "## 2.Basic Operation\n",
    "ใน Pytorch การดำเนินการพื้นฐานนั้นใช้เหมือนกับ Python ปกติ โดยการคูณและการหารนั้นเป็นการดำเนินการแบบ Element-wise เช่น"
   ]
  },
  {
   "cell_type": "code",
   "execution_count": 5,
   "metadata": {
    "collapsed": true
   },
   "outputs": [],
   "source": [
    "mytensor1 = from_numpy(np.array([[1,2],[3,4]]))\n",
    "mytensor2 = from_numpy(np.array([[100,200],[300,400]]))"
   ]
  },
  {
   "cell_type": "code",
   "execution_count": 6,
   "metadata": {
    "scrolled": true
   },
   "outputs": [
    {
     "name": "stdout",
     "output_type": "stream",
     "text": [
      "\n",
      " 101  202\n",
      " 303  404\n",
      "[torch.LongTensor of size 2x2]\n",
      "\n"
     ]
    }
   ],
   "source": [
    "print(mytensor1 + mytensor2)"
   ]
  },
  {
   "cell_type": "code",
   "execution_count": 7,
   "metadata": {},
   "outputs": [
    {
     "name": "stdout",
     "output_type": "stream",
     "text": [
      "\n",
      " -99 -198\n",
      "-297 -396\n",
      "[torch.LongTensor of size 2x2]\n",
      "\n"
     ]
    }
   ],
   "source": [
    "print(mytensor1 - mytensor2)"
   ]
  },
  {
   "cell_type": "code",
   "execution_count": 8,
   "metadata": {},
   "outputs": [
    {
     "name": "stdout",
     "output_type": "stream",
     "text": [
      "\n",
      "  100   400\n",
      "  900  1600\n",
      "[torch.LongTensor of size 2x2]\n",
      "\n"
     ]
    }
   ],
   "source": [
    "print(mytensor1*mytensor2)"
   ]
  },
  {
   "cell_type": "code",
   "execution_count": 9,
   "metadata": {
    "scrolled": false
   },
   "outputs": [
    {
     "name": "stdout",
     "output_type": "stream",
     "text": [
      "\n",
      " 0  0\n",
      " 0  0\n",
      "[torch.LongTensor of size 2x2]\n",
      "\n"
     ]
    }
   ],
   "source": [
    "print(mytensor1/mytensor2)"
   ]
  },
  {
   "cell_type": "markdown",
   "metadata": {},
   "source": [
    "จากที่ผ่านมาจะสังเกตได้ว่า Pytorch เมื่อทำอะไรก็สามารถแสดงผลได้เลย ซึ่งเป็นข้อดีของระบบ Define by run ทำให้ผู้ใช้มีความสะดวกมากขึ้น"
   ]
  },
  {
   "cell_type": "code",
   "execution_count": 10,
   "metadata": {
    "collapsed": true
   },
   "outputs": [],
   "source": [
    "## print(mytensor1**2) Error\n",
    "## Tensor ไม่สามารถยกกำลังได้"
   ]
  },
  {
   "cell_type": "markdown",
   "metadata": {},
   "source": [
    "## 3.Automatic Differentiation\n",
    "ระบบการหาอนุพันธ์ที่ Pytorch ใช้คือ Automatic Differentiation โดยใน Variable จะเก็บตัวแปรดังนี้\n",
    "<img src=\"http://pytorch.org/tutorials/_images/Variable.png\" style=\"width: 250px;\"/>\n",
    "นอกจากนี้โปรแกรมจะสร้าง Computational Graph ขึ้นมาเพื่อให้หาอนุพันธ์ตามกราฟการคำนวณได้ <br>\n",
    "ตัวอย่างการหา $ \\frac{dz}{dx} $ ที่ $ x = 1 $ โดยมีฟังก์ชันดังนี้ <br>\n",
    "$ y = 2x $ <br>\n",
    "$ z = y^2 $"
   ]
  },
  {
   "cell_type": "code",
   "execution_count": 11,
   "metadata": {},
   "outputs": [],
   "source": [
    "x = Variable(torch.ones(1),requires_grad = True)\n",
    "y = 2*x\n",
    "z = 2*y*y"
   ]
  },
  {
   "cell_type": "markdown",
   "metadata": {},
   "source": [
    "เมื่อเราต้องการหาอนุพันธ์ของฟังก์ชัน เราสามารถใช้ Method backward ได้เลยโดย"
   ]
  },
  {
   "cell_type": "code",
   "execution_count": 12,
   "metadata": {
    "scrolled": true
   },
   "outputs": [
    {
     "name": "stdout",
     "output_type": "stream",
     "text": [
      "Variable containing:\n",
      " 16\n",
      "[torch.FloatTensor of size 1]\n",
      "\n"
     ]
    }
   ],
   "source": [
    "z.backward()\n",
    "print(x.grad)"
   ]
  },
  {
   "cell_type": "code",
   "execution_count": 13,
   "metadata": {},
   "outputs": [
    {
     "data": {
      "text/plain": [
       "array([ 16.])"
      ]
     },
     "execution_count": 13,
     "metadata": {},
     "output_type": "execute_result"
    }
   ],
   "source": [
    "##Check with sympy\n",
    "from sympy import symbols, Derivative, lambdify\n",
    "x = symbols('x')\n",
    "y = 2*x\n",
    "z = 2*y**2\n",
    "diff = Derivative(z,x).doit()\n",
    "f = lambdify(x,diff,'numpy')\n",
    "f(np.ones(1))"
   ]
  },
  {
   "cell_type": "markdown",
   "metadata": {},
   "source": [
    "## 3.Deep Learning Basic Episode 1 : OLS Regression\n",
    "ในการสร้างสมการถดถอยอย่างง่ายใน Pytorch นั้นเราสามารถสร้างได้โดยใช้คำสั่ง Linear ใน Class nn โดยส่วนมากผู้ใช้จะทำการสร้าง Class ของตัวแบบเพื่อที่จะ Run Model ดังข้างล่าง"
   ]
  },
  {
   "cell_type": "code",
   "execution_count": 14,
   "metadata": {},
   "outputs": [],
   "source": [
    "torch.manual_seed(123)\n",
    "import torch.nn as nn\n",
    "class BasicOLS(nn.Module):\n",
    "    def __init__(self,input_size,output_size):\n",
    "        super(BasicOLS,self).__init__()\n",
    "        self.linear = nn.Linear(input_size,output_size)\n",
    "    \n",
    "    def forward(self,x):\n",
    "        x = self.linear(x)\n",
    "        return x"
   ]
  },
  {
   "cell_type": "markdown",
   "metadata": {},
   "source": [
    "โดยเราจะทำการสร้าง Constructor เพื่อที่จะตั้งค่า Hyperparameter ของแต่ละ Layer หลังจากนั้นจะกำหนดว่าจะนำ Layer ใดต่อกับ Layer ใด โดยใช้  Method forward หลังจากนั้นจะทำการ Load Data ที่มา Train คือ Boston House Price ผ่าน Library Scikit-learn"
   ]
  },
  {
   "cell_type": "code",
   "execution_count": 15,
   "metadata": {},
   "outputs": [],
   "source": [
    "from sklearn.datasets import load_boston\n",
    "boston = load_boston()\n",
    "train_x = boston.data\n",
    "train_y = boston.target\n",
    "train_x = train_x.astype('float32')\n",
    "train_y = train_y.astype('float32')"
   ]
  },
  {
   "cell_type": "code",
   "execution_count": 16,
   "metadata": {
    "scrolled": true
   },
   "outputs": [
    {
     "name": "stdout",
     "output_type": "stream",
     "text": [
      "Total Variables = (13,)\n"
     ]
    }
   ],
   "source": [
    "print(\"Total Variables = {}\".format(train_x[0].shape))"
   ]
  },
  {
   "cell_type": "markdown",
   "metadata": {},
   "source": [
    "หลังจากนั้นเราจะทำการเรียกตัวแบบขึ้นมา"
   ]
  },
  {
   "cell_type": "code",
   "execution_count": 17,
   "metadata": {
    "scrolled": false
   },
   "outputs": [],
   "source": [
    "modelOLS = BasicOLS(13,1)"
   ]
  },
  {
   "cell_type": "markdown",
   "metadata": {},
   "source": [
    "ในขั้นนี้เราจะกำหนดว่าเราจะหาค่า Error ด้วยวิธีใด โดย Error นั้นจะมีผลต่อตัวแบบซึ่งจะกล่าวในบทถัดไป นอกจากนี้ยังกำหนดวิธีการหาค่าพารามิเตอร์ในตัวแบบด้วยวิธีไหน ในที่นี้จะใช้ Gradient Descent"
   ]
  },
  {
   "cell_type": "code",
   "execution_count": 18,
   "metadata": {
    "collapsed": true
   },
   "outputs": [],
   "source": [
    "criteria = nn.MSELoss()\n",
    "optimizer = torch.optim.SGD(modelOLS.parameters(),lr = 0.0001)"
   ]
  },
  {
   "cell_type": "code",
   "execution_count": 19,
   "metadata": {
    "collapsed": true
   },
   "outputs": [],
   "source": [
    "tensor_x = Variable(from_numpy(train_x))\n",
    "tensor_y = Variable(from_numpy(train_y))"
   ]
  },
  {
   "cell_type": "markdown",
   "metadata": {},
   "source": [
    "หลังจากนั้นจะทำการรันตัวแบบ โดยใน Pytorch เราต้องทำการสร้าง for loop เพื่อที่ให้โปรแกรมรันเป็นรอบๆ โดยใน for loop ต้องกำหนด Objective function (.zero_grad()) รวมถึงการคำนวณค่า loss การทำ Backward Propagation "
   ]
  },
  {
   "cell_type": "code",
   "execution_count": 20,
   "metadata": {},
   "outputs": [
    {
     "name": "stdout",
     "output_type": "stream",
     "text": [
      "Error of epoch 1/10 is 1644.60595703125\n",
      "Error of epoch 2/10 is 5434037.5\n",
      "Error of epoch 3/10 is 20615462912.0\n",
      "Error of epoch 4/10 is 78235782086656.0\n",
      "Error of epoch 5/10 is 2.9690535109617254e+17\n",
      "Error of epoch 6/10 is 1.1267574907279172e+21\n",
      "Error of epoch 7/10 is 4.2760587509909125e+24\n",
      "Error of epoch 8/10 is 1.6227663923294e+28\n",
      "Error of epoch 9/10 is 6.158413679785603e+31\n",
      "Error of epoch 10/10 is 2.3371228457993723e+35\n"
     ]
    }
   ],
   "source": [
    "for epoch in range(10):\n",
    "    optimizer.zero_grad()\n",
    "    output = modelOLS(tensor_x)\n",
    "    loss = criteria(output,tensor_y)\n",
    "    loss.backward()\n",
    "    optimizer.step()\n",
    "    print(\"Error of epoch {}/10 is {}\".format(epoch+1,float(loss.data.numpy())))"
   ]
  }
 ],
 "metadata": {
  "kernelspec": {
   "display_name": "Python 3",
   "language": "python",
   "name": "python3"
  },
  "language_info": {
   "codemirror_mode": {
    "name": "ipython",
    "version": 3
   },
   "file_extension": ".py",
   "mimetype": "text/x-python",
   "name": "python",
   "nbconvert_exporter": "python",
   "pygments_lexer": "ipython3",
   "version": "3.6.1"
  }
 },
 "nbformat": 4,
 "nbformat_minor": 2
}
